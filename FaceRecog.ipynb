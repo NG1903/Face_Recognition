{
  "nbformat": 4,
  "nbformat_minor": 0,
  "metadata": {
    "colab": {
      "name": "FaceRecog.ipynb",
      "provenance": [],
      "authorship_tag": "ABX9TyOmP+u25KeNuvnRL04+ECq1",
      "include_colab_link": true
    },
    "kernelspec": {
      "name": "python3",
      "display_name": "Python 3"
    },
    "accelerator": "GPU"
  },
  "cells": [
    {
      "cell_type": "markdown",
      "metadata": {
        "id": "view-in-github",
        "colab_type": "text"
      },
      "source": [
        "<a href=\"https://colab.research.google.com/github/NG1903/Face_Recognition/blob/master/FaceRecog.ipynb\" target=\"_parent\"><img src=\"https://colab.research.google.com/assets/colab-badge.svg\" alt=\"Open In Colab\"/></a>"
      ]
    },
    {
      "cell_type": "markdown",
      "metadata": {
        "id": "GFbkc93BW68I",
        "colab_type": "text"
      },
      "source": [
        "Cloned my Git"
      ]
    },
    {
      "cell_type": "code",
      "metadata": {
        "id": "X5zUhR3kwLji",
        "colab_type": "code",
        "colab": {
          "base_uri": "https://localhost:8080/",
          "height": 35
        },
        "outputId": "0ad34ef3-71e2-4d6f-afd0-9416bfcf4c8e"
      },
      "source": [
        "!git clone https://github.com/NG1903/Face_Recognition.git"
      ],
      "execution_count": 1,
      "outputs": [
        {
          "output_type": "stream",
          "text": [
            "fatal: destination path 'Face_Recognition' already exists and is not an empty directory.\n"
          ],
          "name": "stdout"
        }
      ]
    },
    {
      "cell_type": "code",
      "metadata": {
        "id": "kkGFf1f78je4",
        "colab_type": "code",
        "colab": {
          "base_uri": "https://localhost:8080/",
          "height": 35
        },
        "outputId": "5e872df2-969f-4416-89af-f50bee030d0a"
      },
      "source": [
        "%cd /content/Face_Recognition/"
      ],
      "execution_count": 2,
      "outputs": [
        {
          "output_type": "stream",
          "text": [
            "/content/Face_Recognition\n"
          ],
          "name": "stdout"
        }
      ]
    },
    {
      "cell_type": "markdown",
      "metadata": {
        "id": "2ILEJCPcXCgI",
        "colab_type": "text"
      },
      "source": [
        "Used FaceNet pretrained weights and used Inception model with his softmax layer removed. Used the last Fully connected layer with 128 params as the encodings for each image. One Shot learning has been used which aims to learn information about object categories from one, or only a few, training samples/images."
      ]
    },
    {
      "cell_type": "code",
      "metadata": {
        "id": "G172hN6B8zjw",
        "colab_type": "code",
        "colab": {
          "base_uri": "https://localhost:8080/",
          "height": 35
        },
        "outputId": "42ec5d48-fbd2-43c6-9726-46193cef5d5e"
      },
      "source": [
        "from keras.models import Sequential\n",
        "from keras.layers import Conv2D, ZeroPadding2D, Activation, Input, concatenate\n",
        "from keras.models import Model\n",
        "from keras.layers.normalization import BatchNormalization\n",
        "from keras.layers.pooling import MaxPooling2D, AveragePooling2D\n",
        "from keras.layers.merge import Concatenate\n",
        "from keras.layers.core import Lambda, Flatten, Dense\n",
        "from keras.initializers import glorot_uniform\n",
        "from keras.engine.topology import Layer\n",
        "from keras import backend as K\n",
        "K.set_image_data_format('channels_first')\n",
        "import cv2\n",
        "import os\n",
        "import numpy as np\n",
        "from numpy import genfromtxt\n",
        "import pandas as pd\n",
        "import tensorflow as tf\n",
        "from fr_utils import *\n",
        "from inception_blocks_v2 import *\n",
        "from IPython.display import display, Javascript\n",
        "from google.colab.output import eval_js\n",
        "from base64 import b64decode\n",
        "import matplotlib.pyplot as plt\n",
        "from google.colab.patches import cv2_imshow\n",
        "%matplotlib inline\n",
        "%load_ext autoreload\n",
        "%autoreload 2"
      ],
      "execution_count": 3,
      "outputs": [
        {
          "output_type": "stream",
          "text": [
            "Using TensorFlow backend.\n"
          ],
          "name": "stderr"
        }
      ]
    },
    {
      "cell_type": "code",
      "metadata": {
        "id": "f0Jqj6rsBOr4",
        "colab_type": "code",
        "colab": {
          "base_uri": "https://localhost:8080/",
          "height": 53
        },
        "outputId": "75c45667-62d0-4024-8f55-7353dc3471d0"
      },
      "source": [
        "import tensorflow as tf\n",
        "import keras.backend.tensorflow_backend as tfback\n",
        "\n",
        "print(\"tf.__version__ is\", tf.__version__)\n",
        "print(\"tf.keras.__version__ is:\", tf.keras.__version__)\n",
        "\n",
        "def _get_available_gpus():\n",
        "    \"\"\"Get a list of available gpu devices (formatted as strings).\n",
        "\n",
        "    # Returns\n",
        "        A list of available GPU devices.\n",
        "    \"\"\"\n",
        "    #global _LOCAL_DEVICES\n",
        "    if tfback._LOCAL_DEVICES is None:\n",
        "        devices = tf.config.list_logical_devices()\n",
        "        tfback._LOCAL_DEVICES = [x.name for x in devices]\n",
        "    return [x for x in tfback._LOCAL_DEVICES if 'device:gpu' in x.lower()]\n",
        "\n",
        "tfback._get_available_gpus = _get_available_gpus"
      ],
      "execution_count": 4,
      "outputs": [
        {
          "output_type": "stream",
          "text": [
            "tf.__version__ is 2.2.0\n",
            "tf.keras.__version__ is: 2.3.0-tf\n"
          ],
          "name": "stdout"
        }
      ]
    },
    {
      "cell_type": "markdown",
      "metadata": {
        "id": "gn_jtHI0XoGM",
        "colab_type": "text"
      },
      "source": [
        "The model only works for 96\\*96\\*3 images, thus on downsizing images leads to a lot of information loss. Can be improved by using a model trained with larger images.\n"
      ]
    },
    {
      "cell_type": "code",
      "metadata": {
        "id": "nGrvGiOA-5nK",
        "colab_type": "code",
        "colab": {}
      },
      "source": [
        "FRmodel = faceRecoModel(input_shape=(3, 96, 96))"
      ],
      "execution_count": 5,
      "outputs": []
    },
    {
      "cell_type": "markdown",
      "metadata": {
        "id": "Xfuv15zQYIiR",
        "colab_type": "text"
      },
      "source": [
        "For each user a few images are selected and passed through the pretrained model to get their encodings of length 128. These encodings are saved in a dictionary for quick access."
      ]
    },
    {
      "cell_type": "code",
      "metadata": {
        "id": "4GP7_-a6Bn2-",
        "colab_type": "code",
        "colab": {}
      },
      "source": [
        "database = {}\n",
        "database[\"User1_1\"] = img_to_encoding('images/User1_1.jpg', FRmodel)\n",
        "database[\"User1_2\"] = img_to_encoding('images/User1_2.jpg', FRmodel)\n",
        "database[\"User1_3\"] = img_to_encoding('images/User1_3.jpg', FRmodel)\n",
        "database[\"User2_1\"] = img_to_encoding('images/User2_1.jpg', FRmodel)\n",
        "database[\"User2_2\"] = img_to_encoding('images/User2_2.jpg', FRmodel)\n",
        "database[\"User2_3\"] = img_to_encoding('images/User2_3.jpg', FRmodel)\n",
        "database[\"User3_1\"] = img_to_encoding('images/User3_1.jpg', FRmodel)\n",
        "database[\"User3_2\"] = img_to_encoding('images/User3_2.jpg', FRmodel)\n",
        "database[\"User3_3\"] = img_to_encoding('images/User3_3.jpg', FRmodel)\n",
        "# database[\"User4_1\"] = img_to_encoding('images/User4_1.jpg', FRmodel)\n",
        "# database[\"User4_2\"] = img_to_encoding('images/User4_2.jpg', FRmodel)"
      ],
      "execution_count": 6,
      "outputs": []
    },
    {
      "cell_type": "markdown",
      "metadata": {
        "id": "yo18zai8Zv17",
        "colab_type": "text"
      },
      "source": [
        "We maintain a excel sheet at backend to store the details of the above users. These excel sheet can also be automatically updated for tasks like marking attendance."
      ]
    },
    {
      "cell_type": "code",
      "metadata": {
        "id": "wYQTRiUv2BvH",
        "colab_type": "code",
        "colab": {}
      },
      "source": [
        "df = pd.read_excel('Dataset.xlsx')\n",
        "def getUser(i):\n",
        "  print(df.iloc[i-1]['User'] + \", \" + df.iloc[i-1]['Description'] + \" has been recognised.\")"
      ],
      "execution_count": 7,
      "outputs": []
    },
    {
      "cell_type": "markdown",
      "metadata": {
        "id": "x1v8at0-aVxD",
        "colab_type": "text"
      },
      "source": [
        "The below algo checks for the distance between the encoding of the target image and the images in the database. We output the one with the lowest distance and below the given threshhold.\n",
        "\n",
        "Below it is a function for using colab api for accessing webcam for capturing image"
      ]
    },
    {
      "cell_type": "code",
      "metadata": {
        "id": "PVmPIfKzD9C1",
        "colab_type": "code",
        "colab": {}
      },
      "source": [
        "def who_is_it(image_path, database, model):\n",
        "    encoding = img_to_encoding(image_path, model)\n",
        "    min_dist = 100\n",
        "    \n",
        "    for name in database:\n",
        "        dist = np.linalg.norm(database[name] - encoding,ord=2)\n",
        "        if dist < min_dist:\n",
        "            min_dist = dist\n",
        "            identity = name\n",
        "    \n",
        "    if min_dist > 0.7:\n",
        "        print(\"Not in the database.\")\n",
        "    else:\n",
        "        getUser(int(str(identity)[-3]))\n",
        "        \n",
        "    return min_dist, identity\n",
        "\n",
        "def take_photo(filename='photo.jpg', quality=0.8):\n",
        "  js = Javascript('''\n",
        "    async function takePhoto(quality) {\n",
        "      const div = document.createElement('div');\n",
        "      const capture = document.createElement('button');\n",
        "      capture.textContent = 'Capture';\n",
        "      div.appendChild(capture);\n",
        "\n",
        "      const video = document.createElement('video');\n",
        "      video.style.display = 'block';\n",
        "      const stream = await navigator.mediaDevices.getUserMedia({video: true});\n",
        "\n",
        "      document.body.appendChild(div);\n",
        "      div.appendChild(video);\n",
        "      video.srcObject = stream;\n",
        "      await video.play();\n",
        "\n",
        "      // Resize the output to fit the video element.\n",
        "      google.colab.output.setIframeHeight(document.documentElement.scrollHeight, true);\n",
        "\n",
        "      // Wait for Capture to be clicked.\n",
        "      await new Promise((resolve) => capture.onclick = resolve);\n",
        "\n",
        "      const canvas = document.createElement('canvas');\n",
        "      canvas.width = video.videoWidth;\n",
        "      canvas.height = video.videoHeight;\n",
        "      canvas.getContext('2d').drawImage(video, 0, 0);\n",
        "      stream.getVideoTracks()[0].stop();\n",
        "      div.remove();\n",
        "      return canvas.toDataURL('image/jpeg', quality);\n",
        "    }\n",
        "    ''')\n",
        "  display(js)\n",
        "  data = eval_js('takePhoto({})'.format(quality))\n",
        "  binary = b64decode(data.split(',')[1])\n",
        "  with open(filename, 'wb') as f:\n",
        "    f.write(binary)\n",
        "  return filename"
      ],
      "execution_count": 8,
      "outputs": []
    },
    {
      "cell_type": "markdown",
      "metadata": {
        "id": "v1zI2s9jbGpe",
        "colab_type": "text"
      },
      "source": [
        "We use the OpenCV face-recognition algo, haarcascade to detect the face and save the region of interest."
      ]
    },
    {
      "cell_type": "code",
      "metadata": {
        "id": "t5ivohPG7V4g",
        "colab_type": "code",
        "colab": {}
      },
      "source": [
        "def Face(photo):\n",
        "  face_cascade = cv2.CascadeClassifier(cv2.data.haarcascades + 'haarcascade_frontalface_default.xml')\n",
        "  img = cv2.imread(photo) + 60\n",
        "  gray = cv2.cvtColor(img, cv2.COLOR_BGR2GRAY)\n",
        "  faces = face_cascade.detectMultiScale(gray, 1.3, 5)\n",
        "  for (x,y,w,h) in faces:\n",
        "      cv2.rectangle(img,(x-25,y-25),(x+w+25,y+h+25),(0,255,0),2)\n",
        "      X = x\n",
        "      Y = y\n",
        "      W = w\n",
        "      H = h\n",
        "\n",
        "  roi = img[Y-25:Y+H+25, X-25:X+W+25]  \n",
        "  cv2.imwrite('roi.jpg', roi)"
      ],
      "execution_count": 9,
      "outputs": []
    },
    {
      "cell_type": "markdown",
      "metadata": {
        "id": "iZCwZVSRbcC_",
        "colab_type": "text"
      },
      "source": [
        "The below code lets you run the webcam and you have to click capture for processing the image"
      ]
    },
    {
      "cell_type": "code",
      "metadata": {
        "id": "ip6Yox4GF2Jp",
        "colab_type": "code",
        "colab": {
          "base_uri": "https://localhost:8080/",
          "height": 35
        },
        "outputId": "167dd875-6b46-4410-c3e1-ad240a8200ff"
      },
      "source": [
        "from IPython.display import Image\n",
        "try:\n",
        "  filename = take_photo()\n",
        "  print('Saved to {}'.format(filename))\n",
        "  \n",
        "  # Show the image which was just taken.\n",
        "  # display(Image(filename))\n",
        "except Exception as err:\n",
        "  # Errors will be thrown if the user does not have a webcam or if they do not\n",
        "  # grant the page permission to access it.\n",
        "  print(str(err))"
      ],
      "execution_count": 10,
      "outputs": [
        {
          "output_type": "display_data",
          "data": {
            "application/javascript": [
              "\n",
              "    async function takePhoto(quality) {\n",
              "      const div = document.createElement('div');\n",
              "      const capture = document.createElement('button');\n",
              "      capture.textContent = 'Capture';\n",
              "      div.appendChild(capture);\n",
              "\n",
              "      const video = document.createElement('video');\n",
              "      video.style.display = 'block';\n",
              "      const stream = await navigator.mediaDevices.getUserMedia({video: true});\n",
              "\n",
              "      document.body.appendChild(div);\n",
              "      div.appendChild(video);\n",
              "      video.srcObject = stream;\n",
              "      await video.play();\n",
              "\n",
              "      // Resize the output to fit the video element.\n",
              "      google.colab.output.setIframeHeight(document.documentElement.scrollHeight, true);\n",
              "\n",
              "      // Wait for Capture to be clicked.\n",
              "      await new Promise((resolve) => capture.onclick = resolve);\n",
              "\n",
              "      const canvas = document.createElement('canvas');\n",
              "      canvas.width = video.videoWidth;\n",
              "      canvas.height = video.videoHeight;\n",
              "      canvas.getContext('2d').drawImage(video, 0, 0);\n",
              "      stream.getVideoTracks()[0].stop();\n",
              "      div.remove();\n",
              "      return canvas.toDataURL('image/jpeg', quality);\n",
              "    }\n",
              "    "
            ],
            "text/plain": [
              "<IPython.core.display.Javascript object>"
            ]
          },
          "metadata": {
            "tags": []
          }
        },
        {
          "output_type": "stream",
          "text": [
            "Saved to photo.jpg\n"
          ],
          "name": "stdout"
        }
      ]
    },
    {
      "cell_type": "markdown",
      "metadata": {
        "id": "wQG6FqkjbpJ_",
        "colab_type": "text"
      },
      "source": [
        "Testing"
      ]
    },
    {
      "cell_type": "code",
      "metadata": {
        "id": "RLcmB9FYFn50",
        "colab_type": "code",
        "colab": {
          "base_uri": "https://localhost:8080/",
          "height": 145
        },
        "outputId": "e5894b41-cf79-4b00-8a7a-fd7987a00f03"
      },
      "source": [
        "_, id = who_is_it('test1.jpg', database, FRmodel)\n",
        "display(Image('test1.jpg'))"
      ],
      "execution_count": 11,
      "outputs": [
        {
          "output_type": "stream",
          "text": [
            "Rowan Sebastian Atkinson, English actor, comedian, and writer has been recognised.\n"
          ],
          "name": "stdout"
        },
        {
          "output_type": "display_data",
          "data": {
            "image/jpeg": "[encoded data removed]",
            "text/plain": [
              "<IPython.core.display.Image object>"
            ]
          },
          "metadata": {
            "tags": []
          }
        }
      ]
    },
    {
      "cell_type": "code",
      "metadata": {
        "id": "kvmr9SwZ7WDW",
        "colab_type": "code",
        "colab": {}
      },
      "source": [
        "Face('photo.jpg')\n",
        "who_is_it('roi.jpg', database, FRmodel)"
      ],
      "execution_count": null,
      "outputs": []
    }
  ]
}